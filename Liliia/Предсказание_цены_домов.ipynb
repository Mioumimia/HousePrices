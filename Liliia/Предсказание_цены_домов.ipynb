{
  "nbformat": 4,
  "nbformat_minor": 0,
  "metadata": {
    "colab": {
      "name": "Предсказание цены домов.ipynb",
      "provenance": [],
      "collapsed_sections": [],
      "toc_visible": true
    },
    "kernelspec": {
      "name": "python3",
      "display_name": "Python 3"
    },
    "language_info": {
      "name": "python"
    }
  },
  "cells": [
    {
      "cell_type": "markdown",
      "metadata": {
        "id": "44us2QrTjk64"
      },
      "source": [
        "# Подключаем библиотеки"
      ]
    },
    {
      "cell_type": "code",
      "metadata": {
        "id": "pRfMHnv3vpdM",
        "colab": {
          "base_uri": "https://localhost:8080/"
        },
        "outputId": "5eb738cb-3231-4bc0-b656-b8e091cace83"
      },
      "source": [
        "!pip install -q catboost shap\n",
        "from google.colab import drive\n",
        "drive.mount('/content/drive')"
      ],
      "execution_count": null,
      "outputs": [
        {
          "output_type": "stream",
          "text": [
            "\u001b[K     |████████████████████████████████| 67.3MB 57kB/s \n",
            "\u001b[K     |████████████████████████████████| 358kB 45.1MB/s \n",
            "\u001b[?25h  Building wheel for shap (setup.py) ... \u001b[?25l\u001b[?25hdone\n",
            "Mounted at /content/drive\n"
          ],
          "name": "stdout"
        }
      ]
    },
    {
      "cell_type": "code",
      "metadata": {
        "id": "89Qvsrs8_x5T"
      },
      "source": [
        "import pandas as pd\n",
        "import numpy as np\n",
        "import catboost\n",
        "import catboost.datasets\n",
        "import shap\n",
        "import sklearn.model_selection\n",
        "import seaborn as sns\n",
        "import scipy.stats as sps\n",
        "import matplotlib.pyplot as plt\n",
        "import plotly.graph_objects as go\n",
        "from sklearn.ensemble import RandomForestRegressor\n",
        "from sklearn.model_selection import cross_validate\n",
        "import random\n",
        "import math \n",
        "from sklearn.model_selection import cross_val_score\n",
        "from sklearn.model_selection import cross_validate\n",
        "from sklearn.model_selection import cross_val_predict"
      ],
      "execution_count": null,
      "outputs": []
    },
    {
      "cell_type": "code",
      "metadata": {
        "id": "ctz-dl9Q_yaZ"
      },
      "source": [
        "train_df = pd.read_csv(\"drive/MyDrive/content/train.csv\")\n",
        "test_df = pd.read_csv(\"drive/MyDrive/content/test.csv\")"
      ],
      "execution_count": null,
      "outputs": []
    },
    {
      "cell_type": "code",
      "metadata": {
        "colab": {
          "base_uri": "https://localhost:8080/"
        },
        "id": "1_bF27Cjki1z",
        "outputId": "dd2e3003-11d6-4a71-fcf0-17dfa6f6294a"
      },
      "source": [
        "train_df.info()"
      ],
      "execution_count": null,
      "outputs": [
        {
          "output_type": "stream",
          "text": [
            "<class 'pandas.core.frame.DataFrame'>\n",
            "RangeIndex: 1460 entries, 0 to 1459\n",
            "Data columns (total 81 columns):\n",
            " #   Column         Non-Null Count  Dtype  \n",
            "---  ------         --------------  -----  \n",
            " 0   Id             1460 non-null   int64  \n",
            " 1   MSSubClass     1460 non-null   int64  \n",
            " 2   MSZoning       1460 non-null   object \n",
            " 3   LotFrontage    1201 non-null   float64\n",
            " 4   LotArea        1460 non-null   int64  \n",
            " 5   Street         1460 non-null   object \n",
            " 6   Alley          91 non-null     object \n",
            " 7   LotShape       1460 non-null   object \n",
            " 8   LandContour    1460 non-null   object \n",
            " 9   Utilities      1460 non-null   object \n",
            " 10  LotConfig      1460 non-null   object \n",
            " 11  LandSlope      1460 non-null   object \n",
            " 12  Neighborhood   1460 non-null   object \n",
            " 13  Condition1     1460 non-null   object \n",
            " 14  Condition2     1460 non-null   object \n",
            " 15  BldgType       1460 non-null   object \n",
            " 16  HouseStyle     1460 non-null   object \n",
            " 17  OverallQual    1460 non-null   int64  \n",
            " 18  OverallCond    1460 non-null   int64  \n",
            " 19  YearBuilt      1460 non-null   int64  \n",
            " 20  YearRemodAdd   1460 non-null   int64  \n",
            " 21  RoofStyle      1460 non-null   object \n",
            " 22  RoofMatl       1460 non-null   object \n",
            " 23  Exterior1st    1460 non-null   object \n",
            " 24  Exterior2nd    1460 non-null   object \n",
            " 25  MasVnrType     1452 non-null   object \n",
            " 26  MasVnrArea     1452 non-null   float64\n",
            " 27  ExterQual      1460 non-null   object \n",
            " 28  ExterCond      1460 non-null   object \n",
            " 29  Foundation     1460 non-null   object \n",
            " 30  BsmtQual       1423 non-null   object \n",
            " 31  BsmtCond       1423 non-null   object \n",
            " 32  BsmtExposure   1422 non-null   object \n",
            " 33  BsmtFinType1   1423 non-null   object \n",
            " 34  BsmtFinSF1     1460 non-null   int64  \n",
            " 35  BsmtFinType2   1422 non-null   object \n",
            " 36  BsmtFinSF2     1460 non-null   int64  \n",
            " 37  BsmtUnfSF      1460 non-null   int64  \n",
            " 38  TotalBsmtSF    1460 non-null   int64  \n",
            " 39  Heating        1460 non-null   object \n",
            " 40  HeatingQC      1460 non-null   object \n",
            " 41  CentralAir     1460 non-null   object \n",
            " 42  Electrical     1459 non-null   object \n",
            " 43  1stFlrSF       1460 non-null   int64  \n",
            " 44  2ndFlrSF       1460 non-null   int64  \n",
            " 45  LowQualFinSF   1460 non-null   int64  \n",
            " 46  GrLivArea      1460 non-null   int64  \n",
            " 47  BsmtFullBath   1460 non-null   int64  \n",
            " 48  BsmtHalfBath   1460 non-null   int64  \n",
            " 49  FullBath       1460 non-null   int64  \n",
            " 50  HalfBath       1460 non-null   int64  \n",
            " 51  BedroomAbvGr   1460 non-null   int64  \n",
            " 52  KitchenAbvGr   1460 non-null   int64  \n",
            " 53  KitchenQual    1460 non-null   object \n",
            " 54  TotRmsAbvGrd   1460 non-null   int64  \n",
            " 55  Functional     1460 non-null   object \n",
            " 56  Fireplaces     1460 non-null   int64  \n",
            " 57  FireplaceQu    770 non-null    object \n",
            " 58  GarageType     1379 non-null   object \n",
            " 59  GarageYrBlt    1379 non-null   float64\n",
            " 60  GarageFinish   1379 non-null   object \n",
            " 61  GarageCars     1460 non-null   int64  \n",
            " 62  GarageArea     1460 non-null   int64  \n",
            " 63  GarageQual     1379 non-null   object \n",
            " 64  GarageCond     1379 non-null   object \n",
            " 65  PavedDrive     1460 non-null   object \n",
            " 66  WoodDeckSF     1460 non-null   int64  \n",
            " 67  OpenPorchSF    1460 non-null   int64  \n",
            " 68  EnclosedPorch  1460 non-null   int64  \n",
            " 69  3SsnPorch      1460 non-null   int64  \n",
            " 70  ScreenPorch    1460 non-null   int64  \n",
            " 71  PoolArea       1460 non-null   int64  \n",
            " 72  PoolQC         7 non-null      object \n",
            " 73  Fence          281 non-null    object \n",
            " 74  MiscFeature    54 non-null     object \n",
            " 75  MiscVal        1460 non-null   int64  \n",
            " 76  MoSold         1460 non-null   int64  \n",
            " 77  YrSold         1460 non-null   int64  \n",
            " 78  SaleType       1460 non-null   object \n",
            " 79  SaleCondition  1460 non-null   object \n",
            " 80  SalePrice      1460 non-null   int64  \n",
            "dtypes: float64(3), int64(35), object(43)\n",
            "memory usage: 924.0+ KB\n"
          ],
          "name": "stdout"
        }
      ]
    },
    {
      "cell_type": "markdown",
      "metadata": {
        "id": "fd-wdeQxYrkN"
      },
      "source": [
        "# Вчисляем коэффициент Спирмана"
      ]
    },
    {
      "cell_type": "code",
      "metadata": {
        "id": "CYexczyGBShH"
      },
      "source": [
        "data = train_df.copy()\n",
        "#data['AgeBuild'] = train_df['YrSold'] - train_df['YearBuilt']\n",
        "#test_df['AgeBuild'] = test_df['YrSold'] - test_df['YearBuilt']\n",
        "\n",
        "new_clm = []\n",
        "clm_nan= []\n",
        "for i in data.columns:\n",
        "    if data[i].count() > 1200:\n",
        "        new_clm.append(i)\n",
        "        if data[i].count() < 1460:\n",
        "            clm_nan.append(i)\n",
        "data = data[new_clm] #убираем столбцы, где много пропусков\n",
        "\n",
        "train_features = []\n",
        "for clm in data.columns:\n",
        "    if clm == 'SalePrice': continue\n",
        "    stat = sps.spearmanr(data['SalePrice'], data[clm])[0]\n",
        "    if abs(stat) > 0.3:\n",
        "        train_features.append(clm)"
      ],
      "execution_count": null,
      "outputs": []
    },
    {
      "cell_type": "code",
      "metadata": {
        "colab": {
          "base_uri": "https://localhost:8080/"
        },
        "id": "nZcvnSUalmiz",
        "outputId": "4de629a0-f322-48d0-8ba6-c652248596ad"
      },
      "source": [
        "data[train_features].info()"
      ],
      "execution_count": null,
      "outputs": [
        {
          "output_type": "stream",
          "text": [
            "<class 'pandas.core.frame.DataFrame'>\n",
            "RangeIndex: 1460 entries, 0 to 1459\n",
            "Data columns (total 24 columns):\n",
            " #   Column         Non-Null Count  Dtype \n",
            "---  ------         --------------  ----- \n",
            " 0   MSZoning       1460 non-null   object\n",
            " 1   LotArea        1460 non-null   int64 \n",
            " 2   LotShape       1460 non-null   object\n",
            " 3   OverallQual    1460 non-null   int64 \n",
            " 4   YearBuilt      1460 non-null   int64 \n",
            " 5   YearRemodAdd   1460 non-null   int64 \n",
            " 6   ExterQual      1460 non-null   object\n",
            " 7   Foundation     1460 non-null   object\n",
            " 8   BsmtFinSF1     1460 non-null   int64 \n",
            " 9   TotalBsmtSF    1460 non-null   int64 \n",
            " 10  HeatingQC      1460 non-null   object\n",
            " 11  CentralAir     1460 non-null   object\n",
            " 12  1stFlrSF       1460 non-null   int64 \n",
            " 13  GrLivArea      1460 non-null   int64 \n",
            " 14  FullBath       1460 non-null   int64 \n",
            " 15  HalfBath       1460 non-null   int64 \n",
            " 16  KitchenQual    1460 non-null   object\n",
            " 17  TotRmsAbvGrd   1460 non-null   int64 \n",
            " 18  Fireplaces     1460 non-null   int64 \n",
            " 19  GarageCars     1460 non-null   int64 \n",
            " 20  GarageArea     1460 non-null   int64 \n",
            " 21  WoodDeckSF     1460 non-null   int64 \n",
            " 22  OpenPorchSF    1460 non-null   int64 \n",
            " 23  SaleCondition  1460 non-null   object\n",
            "dtypes: int64(16), object(8)\n",
            "memory usage: 273.9+ KB\n"
          ],
          "name": "stdout"
        }
      ]
    },
    {
      "cell_type": "code",
      "metadata": {
        "id": "z3DO-VZZlVS2"
      },
      "source": [
        "#строковые величины\n",
        "s = [\n",
        "     'MSZoning', 'LotShape', 'Foundation', 'HeatingQC', 'CentralAir', \n",
        "     'SaleCondition', 'ExterQual', 'KitchenQual'\n",
        "     ] #>0.3\n",
        "#s_2 = ['ExterQual', 'KitchenQual'] #>0.5"
      ],
      "execution_count": null,
      "outputs": []
    },
    {
      "cell_type": "markdown",
      "metadata": {
        "id": "x8RqWKurmFYm"
      },
      "source": [
        "# Удаляем выбросы"
      ]
    },
    {
      "cell_type": "code",
      "metadata": {
        "id": "k2BLkFzdClhS"
      },
      "source": [
        "def remove_outliers(df, col):\n",
        "    Q1 = df[col].quantile(0.25)\n",
        "    Q3 = df[col].quantile(0.75)\n",
        "    IQR = Q3 - Q1\n",
        "    return df[(df[col] > (Q1 - 1.5 * IQR)) & (df[col] < (Q3 + 1.5 * IQR))]\n",
        "\n",
        "data = remove_outliers(data, 'SalePrice')"
      ],
      "execution_count": null,
      "outputs": []
    },
    {
      "cell_type": "markdown",
      "metadata": {
        "id": "ADmn8mrPY09a"
      },
      "source": [
        "# Random Forest только на числовых значениях\n"
      ]
    },
    {
      "cell_type": "code",
      "metadata": {
        "id": "xTq_EQAYmCGu"
      },
      "source": [
        "data_for_rf = data[train_features].drop(columns = s)\n",
        "\n",
        "train_X, test_X , train_y, test_y = sklearn.model_selection.train_test_split(\n",
        "    data_for_rf,\n",
        "    data['SalePrice'],\n",
        "    train_size=0.8,\n",
        "    random_state=2021\n",
        ")\n"
      ],
      "execution_count": null,
      "outputs": []
    },
    {
      "cell_type": "code",
      "metadata": {
        "colab": {
          "base_uri": "https://localhost:8080/",
          "height": 386
        },
        "id": "M04LCYv9nzEu",
        "outputId": "fbb3f8ad-fcdc-43b2-a4b3-3153c37e06f9"
      },
      "source": [
        "sns.displot(train_y, bins=20)"
      ],
      "execution_count": null,
      "outputs": [
        {
          "output_type": "execute_result",
          "data": {
            "text/plain": [
              "<seaborn.axisgrid.FacetGrid at 0x7f9a6674ced0>"
            ]
          },
          "metadata": {
            "tags": []
          },
          "execution_count": 24
        },
        {
          "output_type": "display_data",
          "data": {
            "image/png": "[encoded data removed]",
            "text/plain": [
              "<Figure size 360x360 with 1 Axes>"
            ]
          },
          "metadata": {
            "tags": [],
            "needs_background": "light"
          }
        }
      ]
    },
    {
      "cell_type": "code",
      "metadata": {
        "colab": {
          "base_uri": "https://localhost:8080/",
          "height": 386
        },
        "id": "2Wo8wODxn8p_",
        "outputId": "964bd31a-13d7-4fa2-ded7-7d16d435221f"
      },
      "source": [
        "sns.displot(test_y, bins=20)"
      ],
      "execution_count": null,
      "outputs": [
        {
          "output_type": "execute_result",
          "data": {
            "text/plain": [
              "<seaborn.axisgrid.FacetGrid at 0x7f9a66240750>"
            ]
          },
          "metadata": {
            "tags": []
          },
          "execution_count": 25
        },
        {
          "output_type": "display_data",
          "data": {
            "image/png": "[encoded data removed]",
            "text/plain": [
              "<Figure size 360x360 with 1 Axes>"
            ]
          },
          "metadata": {
            "tags": [],
            "needs_background": "light"
          }
        }
      ]
    },
    {
      "cell_type": "code",
      "metadata": {
        "colab": {
          "base_uri": "https://localhost:8080/"
        },
        "id": "wVr2cSqf_SMV",
        "outputId": "5c28207a-901c-4ea5-d576-c8431e54e235"
      },
      "source": [
        "reg_rf = RandomForestRegressor(criterion = 'mae')\n",
        "reg_rf.fit(train_X, train_y)\n",
        "\n",
        "res = reg_rf.predict(test_X)\n",
        "math.sqrt(sklearn.metrics.mean_squared_log_error(res, test_y))"
      ],
      "execution_count": null,
      "outputs": [
        {
          "output_type": "execute_result",
          "data": {
            "text/plain": [
              "0.13693523516182396"
            ]
          },
          "metadata": {
            "tags": []
          },
          "execution_count": 58
        }
      ]
    },
    {
      "cell_type": "code",
      "metadata": {
        "id": "3Vuxs-j6vdJ3",
        "colab": {
          "base_uri": "https://localhost:8080/"
        },
        "outputId": "e7a948fa-94a4-4e19-c7fb-6eeec3291188"
      },
      "source": [
        "scores = cross_val_score(reg_rf, train_X, train_y, cv=5, scoring='neg_mean_squared_log_error')\n",
        "np.sqrt(-scores)"
      ],
      "execution_count": null,
      "outputs": [
        {
          "output_type": "execute_result",
          "data": {
            "text/plain": [
              "array([0.12390696, 0.16609727, 0.13784991, 0.14370563, 0.16490385])"
            ]
          },
          "metadata": {
            "tags": []
          },
          "execution_count": 59
        }
      ]
    },
    {
      "cell_type": "code",
      "metadata": {
        "colab": {
          "base_uri": "https://localhost:8080/"
        },
        "id": "0RAe1XpF7WvT",
        "outputId": "7f46fe51-55c6-4f5d-a348-c68fd9389614"
      },
      "source": [
        "important_features = [i for i in zip(data_for_rf.columns, reg.feature_importances_)]\n",
        "sorted(important_features, key = lambda p: -p[1])"
      ],
      "execution_count": null,
      "outputs": [
        {
          "output_type": "execute_result",
          "data": {
            "text/plain": [
              "[('OverallQual', 0.37398879584635963),\n",
              " ('GrLivArea', 0.14287399145971136),\n",
              " ('TotalBsmtSF', 0.0768104628619317),\n",
              " ('BsmtFinSF1', 0.05732052884822831),\n",
              " ('GarageArea', 0.05028100352773853),\n",
              " ('YearBuilt', 0.04830591064895224),\n",
              " ('1stFlrSF', 0.04529434142784211),\n",
              " ('LotArea', 0.044135328165586435),\n",
              " ('YearRemodAdd', 0.035565992732264524),\n",
              " ('GarageCars', 0.033108275534924764),\n",
              " ('OpenPorchSF', 0.025009898845767),\n",
              " ('WoodDeckSF', 0.017141937938253072),\n",
              " ('TotRmsAbvGrd', 0.016402053924974454),\n",
              " ('FullBath', 0.015751685799077247),\n",
              " ('Fireplaces', 0.011999433780277232),\n",
              " ('HalfBath', 0.006010358658111431)]"
            ]
          },
          "metadata": {
            "tags": []
          },
          "execution_count": 20
        }
      ]
    },
    {
      "cell_type": "markdown",
      "metadata": {
        "id": "-WLe0cxjRgto"
      },
      "source": [
        "# CatBoost"
      ]
    },
    {
      "cell_type": "code",
      "metadata": {
        "id": "hK5Fv3-wsxW5"
      },
      "source": [
        "train_features_for_catboost = train_features.copy()\n",
        "\n",
        "#добавляем признаки, которые не были взяты Спирманом\n",
        "#но по графикам кажутся полезными\n",
        "train_features_for_catboost.append('Neighborhood')\n",
        "train_features_for_catboost.append('OverallCond')\n",
        "train_features_for_catboost.append('PavedDrive')\n"
      ],
      "execution_count": null,
      "outputs": []
    },
    {
      "cell_type": "code",
      "metadata": {
        "colab": {
          "base_uri": "https://localhost:8080/",
          "height": 297
        },
        "id": "35x6pbnwowtr",
        "outputId": "2e170bc4-505f-4634-a703-d78c18cb7722"
      },
      "source": [
        "sns.boxplot(x='Neighborhood', y='SalePrice', data=data, palette='Set3')\n",
        "plt.ylabel('Сумма')"
      ],
      "execution_count": null,
      "outputs": [
        {
          "output_type": "execute_result",
          "data": {
            "text/plain": [
              "Text(0, 0.5, 'Сумма')"
            ]
          },
          "metadata": {
            "tags": []
          },
          "execution_count": 29
        },
        {
          "output_type": "display_data",
          "data": {
            "image/png": "[encoded data removed]",
            "text/plain": [
              "<Figure size 432x288 with 1 Axes>"
            ]
          },
          "metadata": {
            "tags": [],
            "needs_background": "light"
          }
        }
      ]
    },
    {
      "cell_type": "code",
      "metadata": {
        "colab": {
          "base_uri": "https://localhost:8080/",
          "height": 297
        },
        "id": "iNudLmDpoUaW",
        "outputId": "b62bd50a-3896-4854-9f55-0cfdefa899aa"
      },
      "source": [
        "sns.boxplot(x='OverallCond', y='SalePrice', data=data, palette='Set3')\n",
        "plt.ylabel('Сумма')"
      ],
      "execution_count": null,
      "outputs": [
        {
          "output_type": "execute_result",
          "data": {
            "text/plain": [
              "Text(0, 0.5, 'Сумма')"
            ]
          },
          "metadata": {
            "tags": []
          },
          "execution_count": 27
        },
        {
          "output_type": "display_data",
          "data": {
            "image/png": "[encoded data removed]",
            "text/plain": [
              "<Figure size 432x288 with 1 Axes>"
            ]
          },
          "metadata": {
            "tags": [],
            "needs_background": "light"
          }
        }
      ]
    },
    {
      "cell_type": "code",
      "metadata": {
        "colab": {
          "base_uri": "https://localhost:8080/",
          "height": 297
        },
        "id": "zW_Xzunkop2V",
        "outputId": "219a6621-8c50-4444-d63f-5d4560e8c1ad"
      },
      "source": [
        "sns.boxplot(x='PavedDrive', y='SalePrice', data=data, palette='Set3')\n",
        "plt.ylabel('Сумма')"
      ],
      "execution_count": null,
      "outputs": [
        {
          "output_type": "execute_result",
          "data": {
            "text/plain": [
              "Text(0, 0.5, 'Сумма')"
            ]
          },
          "metadata": {
            "tags": []
          },
          "execution_count": 28
        },
        {
          "output_type": "display_data",
          "data": {
            "image/png": "[encoded data removed]",
            "text/plain": [
              "<Figure size 432x288 with 1 Axes>"
            ]
          },
          "metadata": {
            "tags": [],
            "needs_background": "light"
          }
        }
      ]
    },
    {
      "cell_type": "code",
      "metadata": {
        "id": "sg9Rpg0PCvGJ",
        "colab": {
          "base_uri": "https://localhost:8080/"
        },
        "outputId": "e035ed33-e547-410c-fa8e-05283095f751"
      },
      "source": [
        "data_1 = data[train_features_for_catboost]\n",
        "data_1['SalePrice'] = data['SalePrice']\n",
        "\n",
        "cat_features = [\n",
        "     'MSZoning', 'LotShape', 'Foundation', 'HeatingQC', 'CentralAir', \n",
        "     'SaleCondition', 'ExterQual', 'KitchenQual'\n",
        "     ] #>0.3\n",
        "\n",
        "#некоторые числовые значения лучше рассматривать как категориальные\n",
        "int_cat_features = [ 'HalfBath', 'OverallCond'] \n",
        "\n",
        "additional_cat_features = ['Neighborhood', 'PavedDrive'] \n",
        "cat_features.extend(int_cat_features + additional_cat_features)\n"
      ],
      "execution_count": null,
      "outputs": [
        {
          "output_type": "stream",
          "text": [
            "/usr/local/lib/python3.7/dist-packages/ipykernel_launcher.py:2: SettingWithCopyWarning:\n",
            "\n",
            "\n",
            "A value is trying to be set on a copy of a slice from a DataFrame.\n",
            "Try using .loc[row_indexer,col_indexer] = value instead\n",
            "\n",
            "See the caveats in the documentation: https://pandas.pydata.org/pandas-docs/stable/user_guide/indexing.html#returning-a-view-versus-a-copy\n",
            "\n"
          ],
          "name": "stderr"
        }
      ]
    },
    {
      "cell_type": "code",
      "metadata": {
        "colab": {
          "base_uri": "https://localhost:8080/",
          "height": 297
        },
        "id": "5KA-XP-hq_1F",
        "outputId": "ba53309f-203a-4094-c47d-3dfeb3666b5e"
      },
      "source": [
        "sns.boxplot(x='HalfBath', y='SalePrice', data=data_1, palette='Set3')\n",
        "plt.ylabel('Сумма')"
      ],
      "execution_count": null,
      "outputs": [
        {
          "output_type": "execute_result",
          "data": {
            "text/plain": [
              "Text(0, 0.5, 'Сумма')"
            ]
          },
          "metadata": {
            "tags": []
          },
          "execution_count": 40
        },
        {
          "output_type": "display_data",
          "data": {
            "image/png": "[encoded data removed]",
            "text/plain": [
              "<Figure size 432x288 with 1 Axes>"
            ]
          },
          "metadata": {
            "tags": [],
            "needs_background": "light"
          }
        }
      ]
    },
    {
      "cell_type": "code",
      "metadata": {
        "colab": {
          "base_uri": "https://localhost:8080/",
          "height": 85
        },
        "id": "7fVqnaT6rKgE",
        "outputId": "56476f29-7885-4fc1-83d3-b646da0f2473"
      },
      "source": [
        "display(data_1['HalfBath'].value_counts())"
      ],
      "execution_count": null,
      "outputs": [
        {
          "output_type": "display_data",
          "data": {
            "text/plain": [
              "0    893\n",
              "1    494\n",
              "2     12\n",
              "Name: HalfBath, dtype: int64"
            ]
          },
          "metadata": {
            "tags": []
          }
        }
      ]
    },
    {
      "cell_type": "code",
      "metadata": {
        "colab": {
          "base_uri": "https://localhost:8080/",
          "height": 297
        },
        "id": "7gYNhYTBr75H",
        "outputId": "9d4dc5d1-be10-4e63-92fb-dac9e50ba095"
      },
      "source": [
        "sns.boxplot(x='Fireplaces', y='SalePrice', data=data_1, palette='Set3')\n",
        "plt.ylabel('Сумма')"
      ],
      "execution_count": null,
      "outputs": [
        {
          "output_type": "execute_result",
          "data": {
            "text/plain": [
              "Text(0, 0.5, 'Сумма')"
            ]
          },
          "metadata": {
            "tags": []
          },
          "execution_count": 44
        },
        {
          "output_type": "display_data",
          "data": {
            "image/png": "[encoded data removed]",
            "text/plain": [
              "<Figure size 432x288 with 1 Axes>"
            ]
          },
          "metadata": {
            "tags": [],
            "needs_background": "light"
          }
        }
      ]
    },
    {
      "cell_type": "code",
      "metadata": {
        "colab": {
          "base_uri": "https://localhost:8080/",
          "height": 102
        },
        "id": "J4k23nuyr9x9",
        "outputId": "b941c092-d8a3-4a9a-acd1-fabf7aaece57"
      },
      "source": [
        "display(data_1['Fireplaces'].value_counts())"
      ],
      "execution_count": null,
      "outputs": [
        {
          "output_type": "display_data",
          "data": {
            "text/plain": [
              "0    689\n",
              "1    607\n",
              "2    100\n",
              "3      3\n",
              "Name: Fireplaces, dtype: int64"
            ]
          },
          "metadata": {
            "tags": []
          }
        }
      ]
    },
    {
      "cell_type": "code",
      "metadata": {
        "colab": {
          "base_uri": "https://localhost:8080/",
          "height": 297
        },
        "id": "vb1tLBDjsM9v",
        "outputId": "378f3a4b-b1f8-4b7e-95ae-1603c30a2136"
      },
      "source": [
        "sns.boxplot(x='OverallCond', y='SalePrice', data=data_1, palette='Set3')\n",
        "plt.ylabel('Сумма')"
      ],
      "execution_count": null,
      "outputs": [
        {
          "output_type": "execute_result",
          "data": {
            "text/plain": [
              "Text(0, 0.5, 'Сумма')"
            ]
          },
          "metadata": {
            "tags": []
          },
          "execution_count": 48
        },
        {
          "output_type": "display_data",
          "data": {
            "image/png": "[encoded data removed]",
            "text/plain": [
              "<Figure size 432x288 with 1 Axes>"
            ]
          },
          "metadata": {
            "tags": [],
            "needs_background": "light"
          }
        }
      ]
    },
    {
      "cell_type": "code",
      "metadata": {
        "colab": {
          "base_uri": "https://localhost:8080/",
          "height": 187
        },
        "id": "5gO9GuQWsO0N",
        "outputId": "a216c45b-780f-4811-a827-1d5f9abdd980"
      },
      "source": [
        "display(data_1['OverallCond'].value_counts())"
      ],
      "execution_count": null,
      "outputs": [
        {
          "output_type": "display_data",
          "data": {
            "text/plain": [
              "5    769\n",
              "6    248\n",
              "7    203\n",
              "8     72\n",
              "4     57\n",
              "3     25\n",
              "9     20\n",
              "2      4\n",
              "1      1\n",
              "Name: OverallCond, dtype: int64"
            ]
          },
          "metadata": {
            "tags": []
          }
        }
      ]
    },
    {
      "cell_type": "code",
      "metadata": {
        "id": "PPkjV4TdDQDE"
      },
      "source": [
        "\"\"\"\n",
        "sps.boxcox(data_1['SalePrice'])\n",
        "data_1['SalePrice'] = sps.boxcox(data_1['SalePrice'])[0]\n",
        "sns.displot(sps.boxcox(data_1['SalePrice']), bins=200)\n",
        "\n",
        "real_value = {}\n",
        "for i in test_y.index:\n",
        "  real_value[i] = data['SalePrice'].iloc[i]\n",
        "real_value = pd.Series(real_value )\n",
        "y_box = clf.predict(test_X)\n",
        "lambda_ =  -0.07692391328663316\n",
        "sklearn.metrics.mean_squared_log_error(np.power((y_box * lambda_) + 1, 1 / lambda_), real_value)\n",
        "\"\"\""
      ],
      "execution_count": null,
      "outputs": []
    },
    {
      "cell_type": "code",
      "metadata": {
        "id": "6eSOs56aMtOX"
      },
      "source": [
        "train_X, test_X , train_y, test_y = sklearn.model_selection.train_test_split(\n",
        "    data_1[train_features_for_catboost],\n",
        "    data_1['SalePrice'],\n",
        "    train_size=0.8,\n",
        "    random_state=2021\n",
        ")\n",
        "\n",
        "\n",
        "train_pool = catboost.Pool(\n",
        "    train_X,\n",
        "    label=train_y,\n",
        "    cat_features=cat_features\n",
        ")\n",
        "val_pool = catboost.Pool(\n",
        "    test_X,\n",
        "    label=test_y,\n",
        "    cat_features=cat_features\n",
        ")\n",
        "test_pool = catboost.Pool(\n",
        "    test_X,\n",
        "    label=test_y,\n",
        "    cat_features=cat_features\n",
        ")"
      ],
      "execution_count": null,
      "outputs": []
    },
    {
      "cell_type": "code",
      "metadata": {
        "id": "_iFTOH0aDGVJ"
      },
      "source": [
        "?catboost.CatBoostRegressor\n",
        "!rm -rf 'catboost_pricing/snapshot.bkp'\n",
        "catboost_train_dir = 'catboost_pricing'\n",
        "reg = catboost.CatBoostRegressor(\n",
        "    od_pval=0.01,\n",
        "    od_wait=20,\n",
        "    random_seed=2021,\n",
        "    train_dir=catboost_train_dir,\n",
        "    task_type='CPU',\n",
        "    max_ctr_complexity=4,\n",
        "    use_best_model=True\n",
        ")\n",
        "reg.fit(\n",
        "    train_pool, \n",
        "    eval_set=val_pool,\n",
        "    plot=True,\n",
        "    save_snapshot=True,\n",
        "    snapshot_file='snapshot.bkp',\n",
        ")"
      ],
      "execution_count": null,
      "outputs": []
    },
    {
      "cell_type": "code",
      "metadata": {
        "colab": {
          "base_uri": "https://localhost:8080/"
        },
        "id": "hAqAaxE91BiH",
        "outputId": "ae2f76ec-98fc-4068-b3c2-85d4c63febca"
      },
      "source": [
        "math.sqrt(sklearn.metrics.mean_squared_log_error(reg.predict(test_X), test_y))"
      ],
      "execution_count": null,
      "outputs": [
        {
          "output_type": "execute_result",
          "data": {
            "text/plain": [
              "0.11540497841002532"
            ]
          },
          "metadata": {
            "tags": []
          },
          "execution_count": 54
        }
      ]
    },
    {
      "cell_type": "code",
      "metadata": {
        "id": "nWlD9WP62XiZ"
      },
      "source": [
        "\"\"\"\"\n",
        "test_metrics = reg.eval_metrics(\n",
        "    test_pool,\n",
        "    metrics=['SMAPE', 'R2'],\n",
        "    ntree_start=reg.best_iteration_ - 1,\n",
        "    ntree_end=reg.best_iteration_,\n",
        "    eval_period=1,\n",
        "    thread_count=-1\n",
        ")\n",
        "test_metrics"
      ],
      "execution_count": null,
      "outputs": []
    },
    {
      "cell_type": "markdown",
      "metadata": {
        "id": "cTunOHOZRQ9g"
      },
      "source": [
        "# Оценка параметров для CatBoost"
      ]
    },
    {
      "cell_type": "code",
      "metadata": {
        "id": "HqRd-2SuDIGW",
        "colab": {
          "base_uri": "https://localhost:8080/",
          "height": 687
        },
        "outputId": "0527bbaf-543f-4f2d-b734-2f1d974de4a7"
      },
      "source": [
        "shap_info = reg.get_feature_importance(\n",
        "    data=train_pool, \n",
        "    type='ShapValues', \n",
        "    verbose=10000\n",
        ")\n",
        "shap_values = shap_info[:,:-1]\n",
        "base_values = shap_info[:,-1]\n",
        "shap.summary_plot(shap_values, train_X)"
      ],
      "execution_count": null,
      "outputs": [
        {
          "output_type": "stream",
          "text": [
            "Processing trees...\n",
            "128/996 trees processed\tpassed time: 186ms\tremaining time: 1.26s\n",
            "996/996 trees processed\tpassed time: 1.19s\tremaining time: 0us\n",
            "Processing documents...\n",
            "128/1119 documents processed\tpassed time: 25.8ms\tremaining time: 200ms\n",
            "1119/1119 documents processed\tpassed time: 216ms\tremaining time: 0us\n"
          ],
          "name": "stdout"
        },
        {
          "output_type": "display_data",
          "data": {
            "image/png": "[encoded data removed]",
            "text/plain": [
              "<Figure size 576x684 with 2 Axes>"
            ]
          },
          "metadata": {
            "tags": [],
            "needs_background": "light"
          }
        }
      ]
    },
    {
      "cell_type": "code",
      "metadata": {
        "id": "P-pcmM3cmVs4"
      },
      "source": [
        "\"\"\"\n",
        "# Создание фигуры точечного графика\n",
        "fig = go.Figure(data=go.Scatter(\n",
        "    x=train_df[''], y=train_df['SalePrice']\n",
        "))\n",
        "\n",
        "# Отображение графика\n",
        "fig.show()"
      ],
      "execution_count": null,
      "outputs": []
    },
    {
      "cell_type": "markdown",
      "metadata": {
        "id": "ulgzpXbUQVwj"
      },
      "source": [
        "# Random Forest with one hot encoding"
      ]
    },
    {
      "cell_type": "markdown",
      "metadata": {
        "id": "n0sbAHKOzw6t"
      },
      "source": [
        "тут всё стало хуже, но я попробовала"
      ]
    },
    {
      "cell_type": "code",
      "metadata": {
        "id": "n5m1IEvaHmzK"
      },
      "source": [
        "train_df_with_ohe = train_df.copy()\n",
        "train_features_with_ohe = []\n",
        "#skip_features = ['OverallQual']\n",
        "for feature in cat_features:\n",
        "  #if feature in skip_features: continue\n",
        "  enc = sklearn.preprocessing.OneHotEncoder(handle_unknown='ignore')\n",
        "  enc.fit(train_df[feature].unique().reshape(-1, 1))\n",
        "  list_of_columns = []\n",
        "  for cat in enc.categories_[0]:\n",
        "    list_of_columns.append(feature+'_' +str(cat))\n",
        "  train_features_with_ohe.extend(list_of_columns)\n",
        "  train_df_with_ohe[list_of_columns] = enc.transform(train_df[feature].values.reshape(-1, 1)).toarray().astype('int')\n",
        "train_features_for_rf = train_features.copy()\n",
        "train_features_for_rf.extend(train_features_with_ohe)"
      ],
      "execution_count": null,
      "outputs": []
    },
    {
      "cell_type": "code",
      "metadata": {
        "id": "NDXPoHuxEjiK"
      },
      "source": [
        "\"\"\"\n",
        "def remove_outliers(df, col):\n",
        "    Q1 = df[col].quantile(0.25)\n",
        "    Q3 = df[col].quantile(0.75)\n",
        "    IQR = Q3 - Q1\n",
        "    return df[(df[col] > (Q1 - 1.5 * IQR)) & (df[col] < (Q3 + 1.5 * IQR))]\n",
        "\"\"\"\n",
        "\n",
        "train_df_with_ohe = remove_outliers(train_df_with_ohe, 'SalePrice')\n",
        "train_df_with_ohe = remove_outliers(train_df_with_ohe, 'LotArea')\n",
        "train_df_with_ohe = remove_outliers(train_df_with_ohe, 'GrLivArea')\n",
        "train_df_with_ohe = remove_outliers(train_df_with_ohe, 'TotalBsmtSF')\n",
        "columns_of_df_with_ohe = train_df_with_ohe[train_features_for_rf].drop(columns = s).columns\n"
      ],
      "execution_count": null,
      "outputs": []
    },
    {
      "cell_type": "code",
      "metadata": {
        "colab": {
          "base_uri": "https://localhost:8080/"
        },
        "id": "x1ZPQfK-Pejo",
        "outputId": "7c08c411-0412-41d8-9c67-d08de47cb376"
      },
      "source": [
        "train_X, test_X , train_y, test_y = sklearn.model_selection.train_test_split(\n",
        "    train_df_with_ohe[train_features_for_rf].drop(columns = s),\n",
        "    train_df_with_ohe['SalePrice'],\n",
        "    train_size=0.8,\n",
        "    random_state=2021\n",
        ")\n",
        "\n",
        "reg_rf_with_ohe = RandomForestRegressor(criterion = 'mae')\n",
        "reg_rf_with_ohe.fit(train_X, train_y)\n",
        "\n",
        "res = reg_rf_with_ohe.predict(test_X)\n",
        "math.sqrt(sklearn.metrics.mean_squared_log_error(res, test_y))"
      ],
      "execution_count": null,
      "outputs": [
        {
          "output_type": "execute_result",
          "data": {
            "text/plain": [
              "0.13536661018482765"
            ]
          },
          "metadata": {
            "tags": []
          },
          "execution_count": 70
        }
      ]
    },
    {
      "cell_type": "code",
      "metadata": {
        "colab": {
          "base_uri": "https://localhost:8080/"
        },
        "id": "OiazSEoXAPKa",
        "outputId": "95671407-6f2b-4aac-f4b0-ab8943c164d4"
      },
      "source": [
        "scores = cross_val_score(reg_rf_with_ohe, train_X, train_y, cv=5, scoring='neg_mean_squared_log_error')\n",
        "np.sqrt(-scores).mean()"
      ],
      "execution_count": null,
      "outputs": [
        {
          "output_type": "execute_result",
          "data": {
            "text/plain": [
              "0.13885058925969568"
            ]
          },
          "metadata": {
            "tags": []
          },
          "execution_count": 75
        }
      ]
    },
    {
      "cell_type": "code",
      "metadata": {
        "id": "yG9z0si2JsZh"
      },
      "source": [
        "\"\"\"\n",
        "important_features_3 = [i for i in zip(train_X.columns, reg_rf_with_ohe.feature_importances_)]\n",
        "sorted(important_features_3, key = lambda p: -p[1])"
      ],
      "execution_count": null,
      "outputs": []
    },
    {
      "cell_type": "markdown",
      "metadata": {
        "id": "Zbboxnl7VdAn"
      },
      "source": [
        "# Запись ответа "
      ]
    },
    {
      "cell_type": "code",
      "metadata": {
        "id": "jvGw8tTHVfdM"
      },
      "source": [
        "data_test = test_df.copy()\n",
        "data_test['MSZoning'] = data_test['MSZoning'].fillna(str(random.randint(0, 10)))\n",
        "data_test['KitchenQual'] = data_test['KitchenQual'].fillna(str(random.randint(0, 10)))\n",
        "data_test['BsmtFinSF1'] = data_test['BsmtFinSF1'].fillna(int(data_test['BsmtFinSF1'].mean())).astype('int64')\n",
        "data_test['TotalBsmtSF'] = data_test['TotalBsmtSF'].fillna(int(data_test['TotalBsmtSF'].mean())).astype('int64')\n",
        "data_test['GarageCars'] = data_test['GarageCars'].fillna(int(data_test['GarageCars'].mean())).astype('int64')\n",
        "data_test['GarageArea'] = data_test['GarageArea'].fillna(int(data_test['GarageArea'].mean())).astype('int64')\n",
        "\n",
        "#только для RF\n",
        "\"\"\"\n",
        "for feature in cat_features:\n",
        "  enc = sklearn.preprocessing.OneHotEncoder(handle_unknown='ignore')\n",
        "  enc.fit(train_df[feature].unique().reshape(-1, 1))\n",
        "  list_of_columns = []\n",
        "  for cat in enc.categories_[0]:\n",
        "    list_of_columns.append(feature+'_' +str(cat))\n",
        "  data_test[list_of_columns] = enc.transform(data_test[feature].values.reshape(-1, 1)).toarray().astype('int')\n",
        "\n",
        "data_test_rf = data_test[train_features_for_rf].drop(columns = s)"
      ],
      "execution_count": null,
      "outputs": []
    },
    {
      "cell_type": "code",
      "metadata": {
        "id": "EmBboTb3XIdJ"
      },
      "source": [
        "#data_test = data_test.fillna(0)\n",
        "data_test_rf"
      ],
      "execution_count": null,
      "outputs": []
    },
    {
      "cell_type": "code",
      "metadata": {
        "id": "RE3JCKKlTvvz"
      },
      "source": [
        "res_catboost = reg.predict(data_test[train_features_for_catboost])\n",
        "#res_rf = reg_rf.predict(data_test_rf)\n",
        "#res_rf_ex = reg_rf_with_ohe.predict(data_test_rf)"
      ],
      "execution_count": null,
      "outputs": []
    },
    {
      "cell_type": "code",
      "metadata": {
        "id": "6RhoKf1xPkow"
      },
      "source": [
        "id = [\"Id\"]\n",
        "for i in test_df['Id'].values:\n",
        "    id.append(i)   \n",
        "res = res_catboost.tolist()\n",
        "res.insert(0, 'SalePrice')"
      ],
      "execution_count": null,
      "outputs": []
    },
    {
      "cell_type": "code",
      "metadata": {
        "id": "Wyez5YveTAzd"
      },
      "source": [
        "np.savetxt('drive/MyDrive/content/sub_v_7.csv', [i for i in zip(id, res)], delimiter=',', fmt='%s')\n"
      ],
      "execution_count": null,
      "outputs": []
    },
    {
      "cell_type": "markdown",
      "metadata": {
        "id": "ee7eO6zRuy27"
      },
      "source": [
        "# Результаты"
      ]
    },
    {
      "cell_type": "markdown",
      "metadata": {
        "id": "AjjCbYTFxu7o"
      },
      "source": [
        "Лучший результат был достигнут с применением катбуста \n",
        "![image.png](data:image/png;base64,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)"
      ]
    },
    {
      "cell_type": "markdown",
      "metadata": {
        "id": "gpwzv0zSu35R"
      },
      "source": [
        "Самый первый Random Forest"
      ]
    },
    {
      "cell_type": "markdown",
      "metadata": {
        "id": "wWD1QjG0u1gt"
      },
      "source": [
        "![image.png](data:image/png;base64,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)"
      ]
    },
    {
      "cell_type": "markdown",
      "metadata": {
        "id": "aS6Q7pafu_Hl"
      },
      "source": [
        "Random Forest с применением one hot encoding всё сильно узудшилось. Добавилось очень много параметров."
      ]
    },
    {
      "cell_type": "markdown",
      "metadata": {
        "id": "8S-VaHcfvHc6"
      },
      "source": [
        "![image.png](data:image/png;base64,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)"
      ]
    }
  ]
}